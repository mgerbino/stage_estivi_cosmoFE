{
 "cells": [
  {
   "cell_type": "markdown",
   "metadata": {
    "colab_type": "text",
    "id": "eEajCR4ba1r1"
   },
   "source": [
    "# Summer Stage 2020 - Cosmology\n",
    "This notebook is the English translation of the 'Stage Estivi 2020' activity at the University of Ferrara. Main contributors are: Shahbaz Alvi, Luca Caloni, Serena Giardiello, Caterina Chiocchetta, Margherita Lembo, Umberto Natale."
   ]
  },
  {
   "cell_type": "markdown",
   "metadata": {
    "colab_type": "text",
    "id": "jO5blxgz1gg6"
   },
   "source": [
    "# Let's load useful modules"
   ]
  },
  {
   "cell_type": "code",
   "execution_count": 2,
   "metadata": {
    "cellView": "code",
    "colab": {},
    "colab_type": "code",
    "id": "PfL2DXCDzxzG"
   },
   "outputs": [],
   "source": [
    "import numpy as np              # math functions in this module\n",
    "import matplotlib.pyplot as plt # plotting functions in this module "
   ]
  },
  {
   "cell_type": "markdown",
   "metadata": {},
   "source": [
    "Run the cell below only if you are in a Google Drive env"
   ]
  },
  {
   "cell_type": "code",
   "execution_count": 3,
   "metadata": {
    "colab": {
     "base_uri": "https://localhost:8080/",
     "height": 122
    },
    "colab_type": "code",
    "executionInfo": {
     "elapsed": 18668,
     "status": "ok",
     "timestamp": 1592315209036,
     "user": {
      "displayName": "Martina Gerbino",
      "photoUrl": "",
      "userId": "11423914919424332484"
     },
     "user_tz": -120
    },
    "id": "GYMyzHOBcTSR",
    "outputId": "af7d619a-c724-4627-bbce-354a9ebf36e3"
   },
   "outputs": [
    {
     "ename": "ModuleNotFoundError",
     "evalue": "No module named 'google'",
     "output_type": "error",
     "traceback": [
      "\u001b[0;31m---------------------------------------------------------------------------\u001b[0m",
      "\u001b[0;31mModuleNotFoundError\u001b[0m                       Traceback (most recent call last)",
      "\u001b[0;32m<ipython-input-3-325b6b200f8c>\u001b[0m in \u001b[0;36m<module>\u001b[0;34m\u001b[0m\n\u001b[1;32m      2\u001b[0m \u001b[0;31m# Run this cell, click on the link, authenticate with your gmail account,\u001b[0m\u001b[0;34m\u001b[0m\u001b[0;34m\u001b[0m\u001b[0;34m\u001b[0m\u001b[0m\n\u001b[1;32m      3\u001b[0m \u001b[0;31m# copy the link provided after authentication and paste it below\u001b[0m\u001b[0;34m\u001b[0m\u001b[0;34m\u001b[0m\u001b[0;34m\u001b[0m\u001b[0m\n\u001b[0;32m----> 4\u001b[0;31m \u001b[0;32mfrom\u001b[0m \u001b[0mgoogle\u001b[0m\u001b[0;34m.\u001b[0m\u001b[0mcolab\u001b[0m \u001b[0;32mimport\u001b[0m \u001b[0mdrive\u001b[0m\u001b[0;34m\u001b[0m\u001b[0;34m\u001b[0m\u001b[0m\n\u001b[0m\u001b[1;32m      5\u001b[0m \u001b[0mdrive\u001b[0m\u001b[0;34m.\u001b[0m\u001b[0mmount\u001b[0m\u001b[0;34m(\u001b[0m\u001b[0;34m'/content/drive'\u001b[0m\u001b[0;34m)\u001b[0m\u001b[0;34m\u001b[0m\u001b[0;34m\u001b[0m\u001b[0m\n",
      "\u001b[0;31mModuleNotFoundError\u001b[0m: No module named 'google'"
     ]
    }
   ],
   "source": [
    "# Authenticate with your gmail account\n",
    "# Run this cell, click on the link, authenticate with your gmail account,\n",
    "# copy the link provided after authentication and paste it below\n",
    "from google.colab import drive\n",
    "drive.mount('/content/drive')"
   ]
  },
  {
   "cell_type": "markdown",
   "metadata": {
    "colab_type": "text",
    "id": "YNBYD1lg6DMx"
   },
   "source": [
    "We will work with real Supernovae (SN) data. Useful commands for analysing and plotting SN data are given in the cells below.\n",
    "We will run the first cells. Afterwards, you will be requested to fill cells with missing commands.\n",
    "\n",
    "Write missing pieces of code in the empty cells. Each empty cell is followed by a hidden cell. If you click on the 'Show Text' button, the hidden cell will be inflated and you will be able to check the solution. Try not to visualize the solution, unless you have no clue on how to fill empty cells.\n",
    "\n",
    "Have fun!"
   ]
  },
  {
   "cell_type": "markdown",
   "metadata": {
    "colab_type": "text",
    "id": "c2-k-ll11zv4"
   },
   "source": [
    "# Let's load data"
   ]
  },
  {
   "cell_type": "code",
   "execution_count": null,
   "metadata": {},
   "outputs": [],
   "source": [
    "# If you are on colab, run this cell to print the path to the working directory\n",
    "!pwd\n",
    "# and to check whether the file gold.dat is in your directory\n",
    "!ls"
   ]
  },
  {
   "cell_type": "code",
   "execution_count": 7,
   "metadata": {
    "colab": {
     "base_uri": "https://localhost:8080/",
     "height": 34
    },
    "colab_type": "code",
    "executionInfo": {
     "elapsed": 483,
     "status": "ok",
     "timestamp": 1592315498688,
     "user": {
      "displayName": "Martina Gerbino",
      "photoUrl": "",
      "userId": "11423914919424332484"
     },
     "user_tz": -120
    },
    "id": "_DR8Y073z3Fg",
    "outputId": "faa2eeda-a140-4595-bd0b-309ed7489249"
   },
   "outputs": [
    {
     "data": {
      "text/plain": [
       "(157, 4)"
      ]
     },
     "execution_count": 7,
     "metadata": {},
     "output_type": "execute_result"
    }
   ],
   "source": [
    "# Use the link below only if you are in a Google Drive env\n",
    "#path_to_data='/content/drive/Shared drives/path/to/data/gold.dat'\n",
    "path_to_data='gold.dat'\n",
    "# Replace the text string above with the actual path to your data file \n",
    "# (as obtained from the !pwd command above), followed by the name of the file gold.dat\n",
    "data=np.loadtxt(path_to_data)\n",
    "\n",
    "data.shape # Supernovae: redshift (z), distance modulus (Md), empty field, error on distance modulus"
   ]
  },
  {
   "cell_type": "markdown",
   "metadata": {
    "colab_type": "text",
    "id": "BYDXpo9lXb01"
   },
   "source": [
    "data is an object that contains the file content. It is a 157row-by-4column matrix. We can pick up individual elements of this matrix, say element ij that is located at the overlap between row i and column j:\n",
    "\n",
    "data[i,j]\n",
    "\n",
    "The 0-0 element is \n",
    "\n",
    "data[0,0]\n",
    "\n",
    "The 130-3 element is\n",
    "\n",
    "data[130,3].\n",
    "\n",
    "Note that we start counting from 0. Python is a programming language that identifies the first element of each row/column by 0. The first row is thus the number 0. The last row is the number 156. In a similar way, the first column is the number 0, the last column is the number 3.\n",
    "\n",
    "In our case, we have 4 data columns for 157 SN. For each row, the 4 columns are: redshift z of that SN, the SN distance modulus M-m (a proxy for the SN distance), an empty column (it was supposed to contain the systematic error on the measurement), and the error on the distance modulus.\n",
    "\n",
    "To ease the notation, let's define 3 data vectors from the original data matrix:"
   ]
  },
  {
   "cell_type": "code",
   "execution_count": 8,
   "metadata": {
    "colab": {},
    "colab_type": "code",
    "id": "lDzP_yqkq28u"
   },
   "outputs": [],
   "source": [
    "z = data[:,0] \n",
    "# The formalism above indicates that\n",
    "# we are extracting all rows (the ':')\n",
    "# and only the first column (the '0')\n",
    "# and we are putting those elements into a vector named z\n",
    "\n",
    "Md = data[:,1]     # Same here, we only take the second column\n",
    "err_Md = data[:,3] # Same here, we only take the fourth column"
   ]
  },
  {
   "cell_type": "markdown",
   "metadata": {
    "colab_type": "text",
    "id": "SC4QAS6b19CQ"
   },
   "source": [
    "# Let's make a plot"
   ]
  },
  {
   "cell_type": "code",
   "execution_count": 9,
   "metadata": {
    "colab": {
     "base_uri": "https://localhost:8080/",
     "height": 298
    },
    "colab_type": "code",
    "executionInfo": {
     "elapsed": 755,
     "status": "ok",
     "timestamp": 1591951162613,
     "user": {
      "displayName": "Martina Gerbino",
      "photoUrl": "",
      "userId": "11423914919424332484"
     },
     "user_tz": -120
    },
    "id": "yJsJWwevz7Km",
    "outputId": "5b1ee49b-ea00-49f9-feca-db9260f603e6"
   },
   "outputs": [
    {
     "data": {
      "text/plain": [
       "Text(0, 0.5, 'M-m')"
      ]
     },
     "execution_count": 9,
     "metadata": {},
     "output_type": "execute_result"
    },
    {
     "data": {
      "image/png": "[encoded data removed]",
      "text/plain": [
       "<Figure size 432x288 with 1 Axes>"
      ]
     },
     "metadata": {
      "needs_background": "light"
     },
     "output_type": "display_data"
    }
   ],
   "source": [
    "# We make use of the 'plot' function from the matplotlib.pyplot (plt) module\n",
    "# to visualize the data previously read from file\n",
    "# We have the redshift on the x-axis\n",
    "# We have the distance modulus on the y-axis\n",
    "\n",
    "plt.plot(z, Md,'.')       # We ask the plot function to report the vector z along the x-axis, \n",
    "                          # the vector Md along the y-axis, and to show the points as dots ('.')\n",
    "plt.xlabel('Redshift z')  # We ask to write 'Redshift z' as the x-axis label\n",
    "plt.ylabel('M-m')         # Same here, we want 'M-m' as y-axis label"
   ]
  },
  {
   "cell_type": "code",
   "execution_count": 10,
   "metadata": {
    "colab": {
     "base_uri": "https://localhost:8080/",
     "height": 296
    },
    "colab_type": "code",
    "executionInfo": {
     "elapsed": 754,
     "status": "ok",
     "timestamp": 1591951166303,
     "user": {
      "displayName": "Martina Gerbino",
      "photoUrl": "",
      "userId": "11423914919424332484"
     },
     "user_tz": -120
    },
    "id": "CpoMtRBS0A4O",
    "outputId": "22ecf360-cbce-4c7e-c3ff-79ba6e4a8807"
   },
   "outputs": [
    {
     "data": {
      "text/plain": [
       "Text(0, 0.5, 'M-m')"
      ]
     },
     "execution_count": 10,
     "metadata": {},
     "output_type": "execute_result"
    },
    {
     "data": {
      "image/png": "[encoded data removed]",
      "text/plain": [
       "<Figure size 432x288 with 1 Axes>"
      ]
     },
     "metadata": {
      "needs_background": "light"
     },
     "output_type": "display_data"
    }
   ],
   "source": [
    "# Now, let's add the errobars!\n",
    "plt.errorbar(z, Md, err_Md, marker='.', linestyle='') \n",
    "\n",
    "# The 'errorbar' function is slighlty different from 'plot'\n",
    "# errorbar allows to attach an errorbar to each point\n",
    "# The linestyle option allows to specify if and how we want the points to be connected\n",
    "# In our case, we do not want any connection ('')\n",
    "# You can try and write linestyle='-' instead, and see what happens!\n",
    "\n",
    "plt.xlabel('Redshift z')\n",
    "plt.ylabel('M-m')"
   ]
  },
  {
   "cell_type": "markdown",
   "metadata": {
    "colab_type": "text",
    "id": "-c_99IpG7Dho"
   },
   "source": [
    "# Let's compute the SN distances and relative error"
   ]
  },
  {
   "cell_type": "markdown",
   "metadata": {
    "colab_type": "text",
    "id": "UOtwVWcSg7xt"
   },
   "source": [
    "When scientists observe SN, what they really measure is the SN apparent magnitude (magnitude is a name that indicates luminosity). At some point at the beginning of the 20th century, scientists realized that there are specific classes of celestial objects that now we call 'standard candles'. For these objects, it is possible to work out the intrinsic luminosity from other observable properties. For example, Henrietta Leavitt was the first to discover that there is a relation between the pulsating period of some peculiar stars (Cepheids) and their intrinsic luminosity. This is extremely helpful, because, if the intrinsic luminosity 'M' is known and the apparent magnitude 'm' is observed, one can determine the distance of an object by comparing M and m. \n",
    "\n",
    "In our data file, we have a combination of M and m, the distance modulus. From the distance modulus, we can compute the distance 'd' of each SN using the definition of distance modulus:\n",
    "\n",
    "M-m = 5 log10(d) - 5\n",
    "\n",
    "The distance 'd' is therefore\n",
    "\n",
    "d = 10^[(M-m+5)/5]\n",
    "\n",
    "and, if computed from the formula above, is expressed in parsec (pc). Parsec is a unit of measurement for very long distances...It corresponds to the distance from which the distance between Earth and the Sun subtends an arc-second angle (1/3600 deg). In other words, the parsec is a cathetus of a triangle that has Earth-Sun distance as the other cathetus. From this definition, one can easily see that \n",
    "\n",
    "1 parsec ~ a thousand billions km\n",
    "\n",
    "For convenience, we further divide the SN distance by one million (10^6), so that the distance is expressed in Mega parsec. Supernovae are really far objects! \n",
    "\n",
    "We also need to propagate the error on the distance modulus to the distance. We can use the standard formula for error propagation:\n",
    "\n",
    "err(d) = err(M-m) derivative(d) with respect to (M-m) \n",
    "       = err(M-m) log(10) d/5"
   ]
  },
  {
   "cell_type": "code",
   "execution_count": 11,
   "metadata": {
    "cellView": "code",
    "colab": {},
    "colab_type": "code",
    "id": "6Vupe2Yn0lWX"
   },
   "outputs": [],
   "source": [
    "d = 10**(Md/5.+1)/10**6          # The pythonic way to express exponentials (x^y) is 'x**y'\n",
    "err_d = np.log(10)*d/5.*err_Md"
   ]
  },
  {
   "cell_type": "markdown",
   "metadata": {
    "colab_type": "text",
    "id": "PRuQJ1BN7Tyb"
   },
   "source": [
    "# First task\n",
    "\n",
    "Plot the distance 'd'\n",
    "as a function of redshift z\n",
    "with errorbars"
   ]
  },
  {
   "cell_type": "code",
   "execution_count": 0,
   "metadata": {
    "colab": {},
    "colab_type": "code",
    "id": "MYXSgoGJ8e4A"
   },
   "outputs": [],
   "source": [
    "# Write here your piece of code\n",
    "# ..."
   ]
  },
  {
   "cell_type": "markdown",
   "metadata": {},
   "source": [
    "The cell below is supposed to be hidden in google colab. It contains the solution to the exercise described above."
   ]
  },
  {
   "cell_type": "code",
   "execution_count": 12,
   "metadata": {
    "colab": {},
    "colab_type": "code",
    "id": "dXrV4dROe-d8"
   },
   "outputs": [
    {
     "data": {
      "text/plain": [
       "Text(0.5, 1.0, 'Gold catalogue')"
      ]
     },
     "execution_count": 12,
     "metadata": {},
     "output_type": "execute_result"
    },
    {
     "data": {
      "image/png": "[encoded data removed]",
      "text/plain": [
       "<Figure size 432x288 with 1 Axes>"
      ]
     },
     "metadata": {
      "needs_background": "light"
     },
     "output_type": "display_data"
    }
   ],
   "source": [
    "#@title  { display-mode: \"code\" }\n",
    "# Plot the distance 'd' \n",
    "# as a function of redshift z\n",
    "# with errorbars\n",
    "\n",
    "plt.errorbar(data[:,0],d,err_d,marker='.',linestyle='')\n",
    "plt.xlabel('Redshift')\n",
    "plt.ylabel('Luminosity distance [Mpc]')\n",
    "plt.title('Gold catalogue')"
   ]
  },
  {
   "cell_type": "markdown",
   "metadata": {
    "colab_type": "text",
    "id": "4dZcVObwexP-"
   },
   "source": [
    "As we see in the figure, the SN catalogue contains also very far objects (z~1.75). However, we know that the Hubble law is only valid for closest objects (z<<1). We remind that the Hubble law states that there is a direct proportionality between distance and redshift of an object.\n",
    "\n",
    "So, let's cut our catalogue so to retain only those objects with z<<1. Concretely, let's define a threshold above which any object is considered as being too far. Let's this threshold be zcut=0.1."
   ]
  },
  {
   "cell_type": "code",
   "execution_count": 16,
   "metadata": {
    "colab": {},
    "colab_type": "code",
    "id": "8XFKJ08fkAia"
   },
   "outputs": [],
   "source": [
    "# zcut is threshold above which we don't want to retain objects\n",
    "zcut = 0.1\n",
    "\n",
    "# The 'where' function from numpy allows to select the position of \n",
    "# those values in a given vector that satisfy a certain condition\n",
    "# In our case, it selects all objects with z<zcut.\n",
    "\n",
    "zlowindex=np.where(z<zcut)[0]\n",
    "zlow=z[zlowindex] \n",
    "# The zlowindex vector contains a set of indices of z\n",
    "# The zlow vector only contains those values of z with z<zcut"
   ]
  },
  {
   "cell_type": "markdown",
   "metadata": {
    "colab_type": "text",
    "id": "E9V7GMv17rf-"
   },
   "source": [
    "# Second task:\n",
    "\n",
    "Print zlowindex, then print the elements of z whose index is in zlowindex\n",
    "\n",
    "Check that the elements of z whose index is in zlowindex satisfy the condition\n",
    "\n",
    "z<zcut"
   ]
  },
  {
   "cell_type": "code",
   "execution_count": 17,
   "metadata": {
    "colab": {},
    "colab_type": "code",
    "id": "_T2_Db__XMQX"
   },
   "outputs": [],
   "source": [
    "# Write here your piece of code\n",
    "# ..."
   ]
  },
  {
   "cell_type": "markdown",
   "metadata": {},
   "source": [
    "The cell below is supposed to be hidden in google colab. It contains the solution to the exercise described above."
   ]
  },
  {
   "cell_type": "code",
   "execution_count": 18,
   "metadata": {
    "cellView": "form",
    "colab": {},
    "colab_type": "code",
    "id": "87Fe5S_70H6Q"
   },
   "outputs": [
    {
     "name": "stdout",
     "output_type": "stream",
     "text": [
      "The zlowindex elements are:  [  0   1   2   3   4   5   6   8   9  10  11  12  13  14  15  16  17  18\n",
      "  19  20  21  22  23  24  25  26  27  28  29  30  31  37  38  40  41  49\n",
      "  50  51  54  62  74  77  78  86  90  91  92  93  94  95  98  99 100 101\n",
      " 102 103 104 112 113 114 115 116 117 124 125 156]\n",
      "The z elements whose index is in zlowindex are:  [0.04   0.05   0.0307 0.056  0.0331 0.046  0.0265 0.075  0.061  0.0141\n",
      " 0.0262 0.043  0.045  0.036  0.058  0.063  0.0186 0.079  0.088  0.0178\n",
      " 0.071  0.0251 0.052  0.0286 0.049  0.05   0.018  0.0244 0.029  0.0161\n",
      " 0.036  0.049  0.0219 0.0152 0.0276 0.0165 0.0167 0.0348 0.0132 0.0166\n",
      " 0.0175 0.0297 0.0104 0.017  0.0104 0.0171 0.0327 0.053  0.017  0.0234\n",
      " 0.0257 0.0157 0.0316 0.0104 0.0141 0.0136 0.038  0.026  0.0193 0.0266\n",
      " 0.036  0.0233 0.0164 0.0218 0.0162 0.0141]\n"
     ]
    }
   ],
   "source": [
    "#@title\n",
    "print('The zlowindex elements are: ', \n",
    "      zlowindex)\n",
    "print('The z elements whose index is in zlowindex are: ',\n",
    "      z[zlowindex])"
   ]
  },
  {
   "cell_type": "markdown",
   "metadata": {
    "colab_type": "text",
    "id": "TYySPiIF8Rnx"
   },
   "source": [
    "# Third task:\n",
    "\n",
    "Plot the distance 'd' as a function of redshift, but only for those z<zcut, with errorbars"
   ]
  },
  {
   "cell_type": "code",
   "execution_count": 19,
   "metadata": {
    "colab": {},
    "colab_type": "code",
    "id": "TJp17S0GXPjt"
   },
   "outputs": [],
   "source": [
    "# Write here your piece of code\n",
    "# ..."
   ]
  },
  {
   "cell_type": "markdown",
   "metadata": {},
   "source": [
    "The cell below is supposed to be hidden in google colab. It contains the solution to the exercise described above."
   ]
  },
  {
   "cell_type": "code",
   "execution_count": 20,
   "metadata": {
    "cellView": "form",
    "colab": {},
    "colab_type": "code",
    "id": "wnBi4iZJz-av"
   },
   "outputs": [
    {
     "data": {
      "text/plain": [
       "Text(0.5, 1.0, 'Gold catalogue, z<zcut')"
      ]
     },
     "execution_count": 20,
     "metadata": {},
     "output_type": "execute_result"
    },
    {
     "data": {
      "image/png": "[encoded data removed]",
      "text/plain": [
       "<Figure size 432x288 with 1 Axes>"
      ]
     },
     "metadata": {
      "needs_background": "light"
     },
     "output_type": "display_data"
    }
   ],
   "source": [
    "#@title\n",
    "plt.errorbar(zlow,d[zlowindex],err_d[zlowindex],\n",
    "             ls='',marker='o')\n",
    "plt.xlabel('Redshift')\n",
    "plt.ylabel('Distance [Mpc]')\n",
    "plt.title('Gold catalogue, z<zcut')"
   ]
  },
  {
   "cell_type": "markdown",
   "metadata": {
    "colab_type": "text",
    "id": "qE9-538K-m6F"
   },
   "source": [
    "# Let's compute our estimate of the Hubble constant"
   ]
  },
  {
   "cell_type": "markdown",
   "metadata": {
    "colab_type": "text",
    "id": "LpTnIymVAMLK"
   },
   "source": [
    "We can try to find a curve that describes the behaviour of the points in the figure above. This operation is referred to as 'fit'. This is very useful, because it allows to highlight a recurring relation between those points. This relation can be used to predict the behaviour of other objects that are still to be observed, or to extract information on the parameters that enter the relation. For example, we can try to estimate the Hubble constant!\n",
    "\n",
    "Below, we report two fitting functions: a linear function and a quadratic function. The coefficients of both the linear and quadratic functions are free parameters. As those coefficients vary, we get a family of either straight lines or quadratic functions.\n",
    "\n",
    "The name of the game is to vary the coefficients until we get the exact combination that minimizes the distance between the fitting function and each point in the figure (the so-called bestfit function). "
   ]
  },
  {
   "cell_type": "code",
   "execution_count": 21,
   "metadata": {
    "colab": {},
    "colab_type": "code",
    "id": "fHWWyViJo5FQ"
   },
   "outputs": [],
   "source": [
    "from scipy.optimize import curve_fit \n",
    "# scipy.optimize module contains useful functions for data analysis\n",
    "# curve_fit function does the job for you. It computes the bestfit parameters\n",
    "# from a data sample and given a fitting function\n",
    "\n",
    "# The formalism below is how in python one defines functions\n",
    "# def myfunction(x,a,b,c,d):\n",
    "# means that we are defining a function of x with a,b,c,d free parameters\n",
    "# When the function is needed, one has to call it as\n",
    "# myfunction(xin,ain,bin,cin,din)\n",
    "# where xin are the values in which I want the function to be evaluated\n",
    "# and ain,bin,cin,din are values to be used for a,b,c,d\n",
    "\n",
    "# First try: linear fit --> this is a linear function with angular coefficient 300000/h\n",
    "# and known term b=0\n",
    "\n",
    "def line(x, h): \n",
    "    b=0\n",
    "    speed_of_light = 300000.\n",
    "    return speed_of_light/h * x + b\n",
    "\n",
    "# Second try: quadratic fit --> this is a quadratic function\n",
    " \n",
    "def parabola(x, h, q): \n",
    "    c=0\n",
    "    speed_of_light= 300000.\n",
    "    return speed_of_light/h*(1.-q)*0.5*x**2 + speed_of_light/h*x + c\n"
   ]
  },
  {
   "cell_type": "markdown",
   "metadata": {
    "colab_type": "text",
    "id": "oBP3MP3kpSLG"
   },
   "source": [
    "Let's start from a linear fit. Let's only consider the subsample with z<0.1 (z<zcut)."
   ]
  },
  {
   "cell_type": "code",
   "execution_count": 22,
   "metadata": {
    "colab": {
     "base_uri": "https://localhost:8080/",
     "height": 34
    },
    "colab_type": "code",
    "executionInfo": {
     "elapsed": 433,
     "status": "ok",
     "timestamp": 1591955820042,
     "user": {
      "displayName": "Martina Gerbino",
      "photoUrl": "",
      "userId": "11423914919424332484"
     },
     "user_tz": -120
    },
    "id": "HURWW6VwpQuC",
    "outputId": "df62567c-5f0d-431a-90b0-b8c676471bea"
   },
   "outputs": [
    {
     "name": "stdout",
     "output_type": "stream",
     "text": [
      "H0=( 64.21637071354274 pm 0.8062837852907799 ) km/s/Mpc\n"
     ]
    }
   ],
   "source": [
    "# curve_fit requires the following input params:\n",
    "# the fitting function ('line' in this case),\n",
    "# x and y coordinates of the data (zlow, d)\n",
    "# and the error over y (sigma=err_d).\n",
    "# The output values are:\n",
    "# the bestfit parameters and their error\n",
    "# In our case, we are looking for the denominator \n",
    "# of the angular coefficient of the function 'line'.\n",
    "# This denominator is H0, the Hubble constant\n",
    "\n",
    "par, cov = curve_fit(line, zlow, d[zlowindex], sigma=err_d[zlowindex])\n",
    "print('H0=(',par[0],'pm',cov[0,0]**0.5, ') km/s/Mpc') \n",
    "\n",
    "# Note that parameters and errors are given as vector and matrix, respectively. \n",
    "# This is because\n",
    "# we could have more than one parameter (and relative error).\n",
    "# The off-diagonal elements in the error matrix indicates\n",
    "# the possible correlation between parameters\n",
    "# i.e., how much changes in one parameter affect the others"
   ]
  },
  {
   "cell_type": "markdown",
   "metadata": {
    "colab_type": "text",
    "id": "PlXpTB2I-whE"
   },
   "source": [
    "This is our estimate of the Hubble constant!\n",
    "This is telling us that the Universe is expanding in such a way \n",
    "that objects at 1 Mpc from us recede away from us \n",
    "at 64.2 km/s, or 1.4 million miles/hour. Sweet!"
   ]
  },
  {
   "cell_type": "markdown",
   "metadata": {
    "colab_type": "text",
    "id": "oON8LxOnpqXp"
   },
   "source": [
    "Let's overplot the bestfit curve"
   ]
  },
  {
   "cell_type": "code",
   "execution_count": 23,
   "metadata": {
    "colab": {
     "base_uri": "https://localhost:8080/",
     "height": 312
    },
    "colab_type": "code",
    "executionInfo": {
     "elapsed": 872,
     "status": "ok",
     "timestamp": 1591953537349,
     "user": {
      "displayName": "Martina Gerbino",
      "photoUrl": "",
      "userId": "11423914919424332484"
     },
     "user_tz": -120
    },
    "id": "_pwWeLJapuvP",
    "outputId": "6104006b-0d31-4c78-8f5a-77ec0c898217"
   },
   "outputs": [
    {
     "data": {
      "text/plain": [
       "Text(0.5, 1.0, 'Gold catalogue, z<0.1')"
      ]
     },
     "execution_count": 23,
     "metadata": {},
     "output_type": "execute_result"
    },
    {
     "data": {
      "image/png": "[encoded data removed]",
      "text/plain": [
       "<Figure size 432x288 with 1 Axes>"
      ]
     },
     "metadata": {
      "needs_background": "light"
     },
     "output_type": "display_data"
    }
   ],
   "source": [
    "# This is for the data\n",
    "plt.errorbar(zlow, d[zlowindex], err_d[zlowindex], ls='', marker='o') \n",
    "# This defines a dummy array for the fitting function\n",
    "# The 'arange' function generates values between 0 and 0.2 separated by 0.01\n",
    "zz = np.arange(0, 0.20, 0.01)  \n",
    "\n",
    "# Let's compute the fitting function using the estimated value of H0=par[0]\n",
    "speed_of_light=300000.\n",
    "fit_lineare = zz*speed_of_light/par[0] \n",
    "plt.plot(zz, fit_lineare, ls='-')\n",
    "plt.xlabel('Redshift')\n",
    "plt.ylabel('Distance [Mpc]')\n",
    "plt.title('Gold catalogue, z<0.1')"
   ]
  },
  {
   "cell_type": "markdown",
   "metadata": {
    "colab_type": "text",
    "id": "_my02JCfp9R6"
   },
   "source": [
    "It looks like our bestfit curve nicely represents the behaviour of our data points.\n",
    "\n",
    "Now, we'd like to know what about farther objects! This is similar to what the High-z Supernova Search Team and Supernova Cosmology Project teams did in the early '90s, and that they were later awarded the Nobel prize for!\n",
    "\n",
    "Let's now cut our initial data catalogue at higher redshift. Let's define a new zcut, say zcut=0.6."
   ]
  },
  {
   "cell_type": "markdown",
   "metadata": {
    "colab_type": "text",
    "id": "RGs4bNAe_rwo"
   },
   "source": [
    "# Determining the deceleration parameter q0"
   ]
  },
  {
   "cell_type": "markdown",
   "metadata": {
    "colab_type": "text",
    "id": "FldZtn-19zMk"
   },
   "source": [
    "# Fourth task:\n",
    "\n",
    "In a similar way as we did for z<0.1, select only those objects with z<0.6.\n",
    "\n",
    "Then, make a linear fit of this new subsample, and plot the new bestfit curve over the data."
   ]
  },
  {
   "cell_type": "code",
   "execution_count": 24,
   "metadata": {
    "colab": {},
    "colab_type": "code",
    "id": "C5IDyick9lV1"
   },
   "outputs": [],
   "source": [
    "# Write here your piece of code\n",
    "# ..."
   ]
  },
  {
   "cell_type": "markdown",
   "metadata": {},
   "source": [
    "The cell below is supposed to be hidden in google colab. It contains the solution to the exercise described above."
   ]
  },
  {
   "cell_type": "code",
   "execution_count": 25,
   "metadata": {
    "cellView": "form",
    "colab": {},
    "colab_type": "code",
    "id": "uGm5cmSz0Xoe"
   },
   "outputs": [
    {
     "name": "stdout",
     "output_type": "stream",
     "text": [
      "H0= 59.37985382579185 pm 0.920552701758712\n"
     ]
    },
    {
     "data": {
      "text/plain": [
       "Text(0.5, 1.0, 'Gold catalogue, z<0.6')"
      ]
     },
     "execution_count": 25,
     "metadata": {},
     "output_type": "execute_result"
    },
    {
     "data": {
      "image/png": "[encoded data removed]",
      "text/plain": [
       "<Figure size 432x288 with 1 Axes>"
      ]
     },
     "metadata": {
      "needs_background": "light"
     },
     "output_type": "display_data"
    }
   ],
   "source": [
    "#@title\n",
    "\n",
    "zcut=0.6\n",
    "zlowindex=np.where(z<zcut)[0]\n",
    "zlow=z[zlowindex]\n",
    "popt, pcov = curve_fit(line, zlow, d[zlowindex], \n",
    "                       sigma=err_d[zlowindex])\n",
    "print('H0=',popt[0],'pm',np.sqrt(pcov[0,0]))\n",
    "plt.errorbar(zlow,d[zlowindex],err_d[zlowindex],\n",
    "             ls='',marker='o')\n",
    "zz=np.arange(zcut*100)/100.\n",
    "plt.plot(zz,zz*300000/par[0],ls='-')\n",
    "plt.xlabel('Redshift')\n",
    "plt.ylabel('Distance [Mpc]')\n",
    "plt.title('Gold catalogue, z<0.6')"
   ]
  },
  {
   "cell_type": "markdown",
   "metadata": {
    "colab_type": "text",
    "id": "yVMi_frTqTeN"
   },
   "source": [
    "What do you think about this new fit? Is it capturing the behaviour of our data points? What about those points at higher redshifts? Mmmmm...\n",
    "\n",
    "Let's now try with a quadratic fit!"
   ]
  },
  {
   "cell_type": "markdown",
   "metadata": {
    "colab_type": "text",
    "id": "E81Kv2iU9_oi"
   },
   "source": [
    "# Fifth task:\n",
    "\n",
    "In a similar way as we did for z<0.1, select only those objects with z<0.6.\n",
    "\n",
    "Then, make a quadratic fit of this new subsample, and plot the new bestfit curve over the data.\n",
    "\n",
    "Remember: the 'parabola' function has two free parameters, h and q. They correspond to H0 (the Hubble constant) and q0 (the deceleration parameter).\n",
    "\n",
    "The order of the output parameters in curve_fit replicates the order of appearance of the free parameters in the fitting function. In our case, first we have h, then q. So, if you name the output parameter vector as 'par', you have h=par[0], q=par[1].\n",
    "\n",
    "The error on each parameter is the square root of the corresponding element along the diagonal of the error matrix. So, if you name the error matrix as cov, the error on H0 is cov[0,0]^0.5 and the error on q0 is cov[1,1]^0.5.\n",
    "\n",
    "Now, compare this result with the previous fit."
   ]
  },
  {
   "cell_type": "code",
   "execution_count": 26,
   "metadata": {
    "colab": {},
    "colab_type": "code",
    "id": "5AqJeUYF-gGd"
   },
   "outputs": [],
   "source": [
    "# Write your piece of code here\n",
    "# ..."
   ]
  },
  {
   "cell_type": "markdown",
   "metadata": {},
   "source": [
    "The cell below is supposed to be hidden in google colab. It contains the solution to the exercise described above."
   ]
  },
  {
   "cell_type": "code",
   "execution_count": 27,
   "metadata": {
    "cellView": "form",
    "colab": {},
    "colab_type": "code",
    "id": "ybmr8Bpz3y8_"
   },
   "outputs": [
    {
     "name": "stdout",
     "output_type": "stream",
     "text": [
      "H0= 65.64557494802683 pm 0.9745372462797033\n",
      "q0= -0.4255770193106399 pm 0.13736154012478743\n"
     ]
    },
    {
     "data": {
      "text/plain": [
       "<matplotlib.legend.Legend at 0x11ce60470>"
      ]
     },
     "execution_count": 27,
     "metadata": {},
     "output_type": "execute_result"
    },
    {
     "data": {
      "image/png": "[encoded data removed]",
      "text/plain": [
       "<Figure size 432x288 with 1 Axes>"
      ]
     },
     "metadata": {
      "needs_background": "light"
     },
     "output_type": "display_data"
    }
   ],
   "source": [
    "#@title\n",
    "\n",
    "zcut=0.6\n",
    "zlowindex=np.where(z<zcut)[0]\n",
    "zlow=z[zlowindex]\n",
    "par2, cov2 = curve_fit(parabola, zlow, d[zlowindex], \n",
    "                       sigma=err_d[zlowindex])\n",
    "print('H0=',par2[0],'pm',np.sqrt(cov2[0,0]))\n",
    "print('q0=',par2[1],'pm',np.sqrt(cov2[1,1]))\n",
    "plt.errorbar(zlow,d[zlowindex],err_d[zlowindex],\n",
    "             ls='',marker='o')\n",
    "zz=np.arange(zcut*100)/100.\n",
    "plt.plot(zz,zz*300000/par2[0]+\n",
    "         zz**2*300000/par2[0]*0.5*(1-par2[1]),\n",
    "         ls='-',label='quadratic')\n",
    "plt.plot(zz,zz*300000/par[0],ls='-',label='linear')\n",
    "plt.xlabel('Redshift')\n",
    "plt.ylabel('Distance [Mpc]')\n",
    "plt.title('Gold catalogue, z<0.6')\n",
    "plt.legend()"
   ]
  },
  {
   "cell_type": "markdown",
   "metadata": {
    "colab_type": "text",
    "id": "PikPysctq4NL"
   },
   "source": [
    "Much much better! The farthest SN do not follow a linear curve. Did you notice what estimate you got for q0? How can we interpret this result? Is the Universe expanding? If so, is this expansion accelerated or delcelerated?\n",
    "\n",
    "Now, we know that we can express q0 as a function of the content of the Universe:\n",
    "\n",
    "q0 = Omega_m/2 - Omega_L\n",
    "\n",
    "where Omega_m and Omega_L are proxy for the amount of matter and dark energy in the Universe.\n",
    "\n",
    "From our estimate of q0, let's now work out the amount of matter and dark energy that we should expect to find in our Universe."
   ]
  },
  {
   "cell_type": "markdown",
   "metadata": {
    "colab_type": "text",
    "id": "1BTPxuI6eHEv"
   },
   "source": [
    "# Coffee break!"
   ]
  },
  {
   "cell_type": "markdown",
   "metadata": {
    "colab_type": "text",
    "id": "DtPTpTWI_1Ph"
   },
   "source": [
    "# Hunting for dark matter and dark energy"
   ]
  },
  {
   "cell_type": "markdown",
   "metadata": {
    "colab_type": "text",
    "id": "sAx7_qeKEdpe"
   },
   "source": [
    "Let's refresh our memory with the use of 'for' and 'if' in python"
   ]
  },
  {
   "cell_type": "code",
   "execution_count": 28,
   "metadata": {
    "colab": {
     "base_uri": "https://localhost:8080/",
     "height": 374
    },
    "colab_type": "code",
    "id": "h-E-exNhEljq",
    "outputId": "3c1c00ef-93a6-49da-e3c6-3fd76a284b76"
   },
   "outputs": [
    {
     "name": "stdout",
     "output_type": "stream",
     "text": [
      "The current element is  7\n",
      "The current element is  8\n",
      "The current element is  9\n",
      "The current element is  10\n",
      "The current element is  11\n",
      "The current element is  12\n",
      "The current element is  13\n",
      "The current element is  14\n",
      "The current element is  15\n",
      "The current element is  16\n",
      "The current element is  17\n",
      "The current element is  18\n",
      "The current element is  19\n",
      "The current element is  20\n",
      "The current element is  21\n",
      "The current element is  22\n",
      "The current element is  23\n",
      "The current element is  24\n",
      "The current element is  25\n",
      "The current element is  26\n",
      "[14, 15, 16]\n"
     ]
    }
   ],
   "source": [
    "vec = np.arange(7,27,1)\n",
    "# Let's use 'for' to run over the elements of vec\n",
    "# Let's use 'if' to select only those elements between 13 and 17\n",
    "\n",
    "min_value = 13\n",
    "max_value = 17\n",
    "new_vec = list() \n",
    "# The 'list()' command creates an empty list that we can fill later\n",
    "\n",
    "for value in vec: \n",
    "  print(\"The current element is \", value)  \n",
    "  if(value > min_value and value < max_value):\n",
    "    new_vec.append(value) \n",
    "    # The 'append' command insert the element within brackets as the last element of new_vec list\n",
    "    \n",
    "\n",
    "# Print new_vec!\n",
    "print(new_vec)\n",
    "             "
   ]
  },
  {
   "cell_type": "markdown",
   "metadata": {
    "colab_type": "text",
    "id": "aNNleycaq6w-"
   },
   "source": [
    "# Sixth task:\n",
    "\n",
    "Let's define\n",
    "\n",
    "1) om = Omega_m, proxy for the amount of matter in the Universe\n",
    "\n",
    "2) ol = Omega_L, proxy for the amount of dark energy in the Universe\n",
    "\n",
    "Both these parameters can only take positive values.\n",
    "\n",
    "Now, we know that q0=om/2-ol. Let's compute and then plot those pairs of om-ol values\n",
    "that provide values of q0 in agreement with our estimate of q0.\n",
    "\n",
    "In other words, if we have measured q0meas with an error of q0err, we only want to retain those values of om-ol that give q0meas-q0err < q0 < q0meas+q0err.\n"
   ]
  },
  {
   "cell_type": "code",
   "execution_count": 0,
   "metadata": {
    "colab": {},
    "colab_type": "code",
    "id": "TjrryC0DrMix"
   },
   "outputs": [],
   "source": [
    "q0_meas = par2[1]\n",
    "q0_err = cov2[1,1]**0.5\n",
    "accepted = list()\n",
    "\n",
    "# We want values of om and ol between 0 and 1, with step=0.01\n",
    "# remember the 'arange' function we used above\n",
    "# We have two parameters (om, ol), therefore, we need two 'for' cycles\n",
    "# to run over all possible om-ol combinations\n",
    "# Fill the missing pieces of code below\n",
    "\n",
    "for om in ------ :  \n",
    "  for ol in ------ :\n",
    "    q0 = ...\n",
    "    # Select with the \"if\" only those values of q0 between q0_meas + err and q0_meas - err\n",
    "    if(------):\n",
    "      accepted.append([om,ol])"
   ]
  },
  {
   "cell_type": "markdown",
   "metadata": {},
   "source": [
    "The cell below is supposed to be hidden in google colab. It contains the solution to the exercise described above."
   ]
  },
  {
   "cell_type": "code",
   "execution_count": 29,
   "metadata": {
    "cellView": "form",
    "colab": {},
    "colab_type": "code",
    "id": "M1wnFBFX4NVs"
   },
   "outputs": [],
   "source": [
    "#@title\n",
    "q0_meas = par2[1]\n",
    "q0_err = cov2[1,1]**0.5\n",
    "accepted = list()\n",
    "for om in np.arange(0,1,step=0.01):  \n",
    "  for ol in np.arange(1,0,step=-0.01):\n",
    "    q0 = om/2. - ol\n",
    "    if(q0>q0_meas-q0_err and q0<q0_meas+q0_err):\n",
    "      accepted.append([om,ol])"
   ]
  },
  {
   "cell_type": "markdown",
   "metadata": {
    "colab_type": "text",
    "id": "x7UWNYoTAKnb"
   },
   "source": [
    "# Seventh task:\n",
    "\n",
    "Now, let's make a plot with those values!"
   ]
  },
  {
   "cell_type": "code",
   "execution_count": 31,
   "metadata": {
    "colab": {},
    "colab_type": "code",
    "id": "0tFUGTvR4XD5"
   },
   "outputs": [
    {
     "data": {
      "text/plain": [
       "\"\\n# Let's make two vectors for Omega_m and Omega_L, for convenience\\nom_ol_vec = np.array(accepted)\\nom_vec = om_ol_vec[:,0]\\nol_vec = om_ol_vec[:,1]\\n\\n# The 'scatter' function plots pairs of coordinate\\nplt.scatter(om_vec, ol_vec)\\n\\n# Let's invert the q0=om/2-ol relation to write ol as a function of om and q0\\n# Use om_vec and q0meas\\n# Fill the missing parts below:\\nol_vec_calc = ...\\n\\n# Plot the values ol_vec_calc as a function of om_vec\\nplt.plot(...)\\n\\n# Now add one point that corresponds to the bestfit values of Omega_m and Omega_L\\n# as obtained by a combination of the most up-to-data cosmological data\\nplt.scatter(0.27,0.63)\\nplt.xlabel('Omega_m')\\nplt.ylabel('Omega_L')\\n\""
      ]
     },
     "execution_count": 31,
     "metadata": {},
     "output_type": "execute_result"
    }
   ],
   "source": [
    "# Let's make two vectors for Omega_m and Omega_L, for convenience\n",
    "om_ol_vec = np.array(accepted)\n",
    "om_vec = om_ol_vec[:,0]\n",
    "ol_vec = om_ol_vec[:,1]\n",
    "\n",
    "# The 'scatter' function plots pairs of coordinate\n",
    "plt.scatter(om_vec, ol_vec)\n",
    "\n",
    "# Let's invert the q0=om/2-ol relation to write ol as a function of om and q0\n",
    "# Use om_vec and q0meas\n",
    "# Fill the missing parts below:\n",
    "ol_vec_calc = ...\n",
    "\n",
    "# Plot the values ol_vec_calc as a function of om_vec\n",
    "plt.plot(...)\n",
    "\n",
    "# Now add one point that corresponds to the bestfit values of Omega_m and Omega_L\n",
    "# as obtained by a combination of the most up-to-data cosmological data\n",
    "plt.scatter(0.27,0.63)\n",
    "plt.xlabel('Omega_m')\n",
    "plt.ylabel('Omega_L')\n"
   ]
  },
  {
   "cell_type": "markdown",
   "metadata": {},
   "source": [
    "The cell below is supposed to be hidden in google colab. It contains the solution to the exercise described above."
   ]
  },
  {
   "cell_type": "code",
   "execution_count": 22,
   "metadata": {
    "cellView": "form",
    "colab": {},
    "colab_type": "code",
    "id": "yhKfAoIG4wWG"
   },
   "outputs": [
    {
     "data": {
      "text/plain": [
       "Text(0, 0.5, 'Omega_L')"
      ]
     },
     "execution_count": 22,
     "metadata": {},
     "output_type": "execute_result"
    },
    {
     "data": {
      "image/png": "[encoded data removed]",
      "text/plain": [
       "<Figure size 432x288 with 1 Axes>"
      ]
     },
     "metadata": {
      "needs_background": "light"
     },
     "output_type": "display_data"
    }
   ],
   "source": [
    "#@title\n",
    "om_ol_vec = np.array(accepted)\n",
    "om_vec = om_ol_vec[:,0]\n",
    "ol_vec = om_ol_vec[:,1]\n",
    "\n",
    "plt.scatter(om_vec, ol_vec)\n",
    "ol_vec_calc = om_vec/2.-q0_meas\n",
    "plt.plot(om_vec, ol_vec_calc, '-r')\n",
    "plt.scatter(0.27,0.63)\n",
    "plt.xlabel('Omega_m')\n",
    "plt.ylabel('Omega_L')"
   ]
  },
  {
   "cell_type": "markdown",
   "metadata": {
    "colab_type": "text",
    "id": "fEgK-35x4Gs_"
   },
   "source": [
    "Fantastic! You just plot the region in the Omega_m-Omega_L plane that is in agreement with estimated value of q0!\n",
    "This means that all those points in the band are likely descriptions of our Universe, according to the SN data we used.\n",
    "\n",
    "Note that Omega_L=0 is excluded from this region. This means that a Universe with no dark energy is not a good description of our Universe, according to SN data!\n",
    "\n",
    "The orange dot corresponds to values of Omega_m and Omega_L as contrained by the combination of several cosmological probes, such as measurements of the cosmic microwave background anisotropies or measurements of the distribution of matter in the Universe. As you can see, the orange dot is contained within the region preferred by SN data! This means that several, independent, cosmological measurements agree on the fact that our Universe today is mostly made by dark energy.\n",
    "\n",
    "And this is a new story...although the dark energy makes 70% of the energy budget in the Universe, we still do not know what the dark energy is. Scientists say that the dark energy paradigm provides a good phenomenological description of the Universe, however it fails from the fundamental physics point of view. It fails because we still don't have a satisfying description of the fundamental properties of dark energy: what it is, where it comes from, is its density constant with time, or is it evolving with time? This is one of the most exciting and active field of research in cosmology today!"
   ]
  },
  {
   "cell_type": "code",
   "execution_count": 0,
   "metadata": {
    "colab": {},
    "colab_type": "code",
    "id": "goYjqzId4jxD"
   },
   "outputs": [],
   "source": []
  }
 ],
 "metadata": {
  "colab": {
   "collapsed_sections": [],
   "name": "stage_cosmo_2020.ipynb",
   "provenance": []
  },
  "kernelspec": {
   "display_name": "Python 3",
   "language": "python",
   "name": "python3"
  },
  "language_info": {
   "codemirror_mode": {
    "name": "ipython",
    "version": 3
   },
   "file_extension": ".py",
   "mimetype": "text/x-python",
   "name": "python",
   "nbconvert_exporter": "python",
   "pygments_lexer": "ipython3",
   "version": "3.7.3"
  }
 },
 "nbformat": 4,
 "nbformat_minor": 1
}
